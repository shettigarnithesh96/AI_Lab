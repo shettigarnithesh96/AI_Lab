{
 "cells": [
  {
   "cell_type": "code",
   "execution_count": 1,
   "id": "8a8a3d8b",
   "metadata": {},
   "outputs": [],
   "source": [
    "import pandas as pd\n",
    "import numpy as np\n"
   ]
  },
  {
   "cell_type": "code",
   "execution_count": 5,
   "id": "d7e51c85",
   "metadata": {},
   "outputs": [
    {
     "name": "stdout",
     "output_type": "stream",
     "text": [
      "   number       bins\n",
      "0      40   (20, 40]\n",
      "1      91  (80, 100]\n",
      "2      85  (80, 100]\n",
      "3      60   (40, 60]\n",
      "4      41   (40, 60]\n",
      "5      83  (80, 100]\n",
      "6      98  (80, 100]\n",
      "7      43   (40, 60]\n",
      "8      82  (80, 100]\n",
      "9      58   (40, 60]\n",
      "[(20, 40], (80, 100], (40, 60]]\n",
      "Categories (5, interval[int64, right]): [(1, 20] < (20, 40] < (40, 60] < (60, 80] < (80, 100]]\n"
     ]
    }
   ],
   "source": [
    "df=pd.DataFrame({'number':np.random.randint(1,100,10)})\n",
    "df['bins']=pd.cut(x=df['number'],bins=[1,20,40,60,80,100])\n",
    "print(df)\n",
    "print(df['bins'].unique())"
   ]
  },
  {
   "cell_type": "code",
   "execution_count": null,
   "id": "43f8015a",
   "metadata": {},
   "outputs": [],
   "source": []
  }
 ],
 "metadata": {
  "kernelspec": {
   "display_name": "Python 3 (ipykernel)",
   "language": "python",
   "name": "python3"
  },
  "language_info": {
   "codemirror_mode": {
    "name": "ipython",
    "version": 3
   },
   "file_extension": ".py",
   "mimetype": "text/x-python",
   "name": "python",
   "nbconvert_exporter": "python",
   "pygments_lexer": "ipython3",
   "version": "3.11.4"
  }
 },
 "nbformat": 4,
 "nbformat_minor": 5
}
