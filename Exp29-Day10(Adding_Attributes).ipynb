{
 "cells": [
  {
   "cell_type": "markdown",
   "id": "7b0147eb",
   "metadata": {},
   "source": [
    "# Create a new column in pandas DataFrame based on the existing column"
   ]
  },
  {
   "cell_type": "code",
   "execution_count": 1,
   "id": "00b3b218",
   "metadata": {},
   "outputs": [],
   "source": [
    "import pandas as pd"
   ]
  },
  {
   "cell_type": "code",
   "execution_count": 2,
   "id": "31e0c8a0",
   "metadata": {},
   "outputs": [
    {
     "name": "stdout",
     "output_type": "stream",
     "text": [
      "        Data    Event   Cost\n",
      "0  10/2/2011    Music  10000\n",
      "1  11/2/2011   Poetry   5000\n",
      "2  12/2/2011  Theatre  15000\n",
      "3  13/2/2011   Comrdy   2000\n"
     ]
    }
   ],
   "source": [
    "df = pd.DataFrame({'Data':['10/2/2011','11/2/2011','12/2/2011','13/2/2011'],\n",
    "                  'Event':['Music','Poetry','Theatre','Comrdy'],\n",
    "                  'Cost':[10000,5000,15000,2000]})\n",
    "print(df)"
   ]
  },
  {
   "cell_type": "code",
   "execution_count": 3,
   "id": "0242bcdc",
   "metadata": {},
   "outputs": [
    {
     "data": {
      "text/html": [
       "<div>\n",
       "<style scoped>\n",
       "    .dataframe tbody tr th:only-of-type {\n",
       "        vertical-align: middle;\n",
       "    }\n",
       "\n",
       "    .dataframe tbody tr th {\n",
       "        vertical-align: top;\n",
       "    }\n",
       "\n",
       "    .dataframe thead th {\n",
       "        text-align: right;\n",
       "    }\n",
       "</style>\n",
       "<table border=\"1\" class=\"dataframe\">\n",
       "  <thead>\n",
       "    <tr style=\"text-align: right;\">\n",
       "      <th></th>\n",
       "      <th>Data</th>\n",
       "      <th>Event</th>\n",
       "      <th>Cost</th>\n",
       "      <th>Discount_Price</th>\n",
       "    </tr>\n",
       "  </thead>\n",
       "  <tbody>\n",
       "    <tr>\n",
       "      <th>0</th>\n",
       "      <td>10/2/2011</td>\n",
       "      <td>Music</td>\n",
       "      <td>10000</td>\n",
       "      <td>9000.0</td>\n",
       "    </tr>\n",
       "    <tr>\n",
       "      <th>1</th>\n",
       "      <td>11/2/2011</td>\n",
       "      <td>Poetry</td>\n",
       "      <td>5000</td>\n",
       "      <td>4500.0</td>\n",
       "    </tr>\n",
       "    <tr>\n",
       "      <th>2</th>\n",
       "      <td>12/2/2011</td>\n",
       "      <td>Theatre</td>\n",
       "      <td>15000</td>\n",
       "      <td>13500.0</td>\n",
       "    </tr>\n",
       "    <tr>\n",
       "      <th>3</th>\n",
       "      <td>13/2/2011</td>\n",
       "      <td>Comrdy</td>\n",
       "      <td>2000</td>\n",
       "      <td>1800.0</td>\n",
       "    </tr>\n",
       "  </tbody>\n",
       "</table>\n",
       "</div>"
      ],
      "text/plain": [
       "        Data    Event   Cost  Discount_Price\n",
       "0  10/2/2011    Music  10000          9000.0\n",
       "1  11/2/2011   Poetry   5000          4500.0\n",
       "2  12/2/2011  Theatre  15000         13500.0\n",
       "3  13/2/2011   Comrdy   2000          1800.0"
      ]
     },
     "execution_count": 3,
     "metadata": {},
     "output_type": "execute_result"
    }
   ],
   "source": [
    "df['Discount_Price'] = df.apply(lambda a:a.Cost - (a.Cost * 0.1),axis = 1)\n",
    "df"
   ]
  }
 ],
 "metadata": {
  "kernelspec": {
   "display_name": "Python 3 (ipykernel)",
   "language": "python",
   "name": "python3"
  },
  "language_info": {
   "codemirror_mode": {
    "name": "ipython",
    "version": 3
   },
   "file_extension": ".py",
   "mimetype": "text/x-python",
   "name": "python",
   "nbconvert_exporter": "python",
   "pygments_lexer": "ipython3",
   "version": "3.11.3"
  }
 },
 "nbformat": 4,
 "nbformat_minor": 5
}
