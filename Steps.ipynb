{
 "cells": [
  {
   "cell_type": "code",
   "execution_count": 1,
   "id": "297dcbca",
   "metadata": {},
   "outputs": [],
   "source": [
    "import numpy as np"
   ]
  },
  {
   "cell_type": "code",
   "execution_count": 5,
   "id": "94052967",
   "metadata": {},
   "outputs": [
    {
     "data": {
      "text/plain": [
       "array([[   1, 4335],\n",
       "       [   2, 9552],\n",
       "       [   3, 7332],\n",
       "       [   4, 4504],\n",
       "       [   5, 5335],\n",
       "       [   6, 7552],\n",
       "       [   7, 8332],\n",
       "       [   8, 6504],\n",
       "       [   9, 8965],\n",
       "       [  10, 7689]])"
      ]
     },
     "execution_count": 5,
     "metadata": {},
     "output_type": "execute_result"
    }
   ],
   "source": [
    "Day=np.arange(1,11)\n",
    "steps=[4335,9552,7332,4504,5335,7552,8332,6504,8965,7689]\n",
    "arr=np.array([Day,steps])\n",
    "arr=arr.T\n",
    "arr"
   ]
  },
  {
   "cell_type": "code",
   "execution_count": 6,
   "id": "d8c3775a",
   "metadata": {},
   "outputs": [
    {
     "data": {
      "text/plain": [
       "array([[    1,  5335],\n",
       "       [    2, 10552],\n",
       "       [    3,  8332],\n",
       "       [    4,  5504],\n",
       "       [    5,  6335],\n",
       "       [    6,  8552],\n",
       "       [    7,  9332],\n",
       "       [    8,  7504],\n",
       "       [    9,  9965],\n",
       "       [   10,  8689]])"
      ]
     },
     "execution_count": 6,
     "metadata": {},
     "output_type": "execute_result"
    }
   ],
   "source": [
    "new_arr=arr[:,1]+1000\n",
    "arr[:,1]=new_arr\n",
    "arr"
   ]
  },
  {
   "cell_type": "code",
   "execution_count": 7,
   "id": "ff6e0f90",
   "metadata": {},
   "outputs": [
    {
     "data": {
      "text/plain": [
       "array([[    2, 10552],\n",
       "       [    3,  8332],\n",
       "       [    6,  8552],\n",
       "       [    7,  9332],\n",
       "       [    8,  7504],\n",
       "       [    9,  9965],\n",
       "       [   10,  8689]])"
      ]
     },
     "execution_count": 7,
     "metadata": {},
     "output_type": "execute_result"
    }
   ],
   "source": [
    "matched=arr[:,1]>7000\n",
    "matched\n",
    "new_arr=arr[matched]\n",
    "new_arr"
   ]
  },
  {
   "cell_type": "code",
   "execution_count": null,
   "id": "e141b112",
   "metadata": {},
   "outputs": [],
   "source": []
  }
 ],
 "metadata": {
  "kernelspec": {
   "display_name": "Python 3 (ipykernel)",
   "language": "python",
   "name": "python3"
  },
  "language_info": {
   "codemirror_mode": {
    "name": "ipython",
    "version": 3
   },
   "file_extension": ".py",
   "mimetype": "text/x-python",
   "name": "python",
   "nbconvert_exporter": "python",
   "pygments_lexer": "ipython3",
   "version": "3.11.3"
  }
 },
 "nbformat": 4,
 "nbformat_minor": 5
}
